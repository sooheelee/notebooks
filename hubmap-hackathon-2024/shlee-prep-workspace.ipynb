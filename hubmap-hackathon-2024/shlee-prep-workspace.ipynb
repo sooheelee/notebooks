{
 "cells": [
  {
   "cell_type": "code",
   "execution_count": 8,
   "id": "46925c46",
   "metadata": {},
   "outputs": [],
   "source": [
    "# linked datasets\n",
    "# Select these thymus data sets from the HuBMAP Datasets page and Workspaces > Add to Existing Workspace\n",
    "# It is also possible Workspaces > Create New Workspace. This autopopulate the workspace with the data sets.\n",
    "uuids = [\n",
    "    '43213991a54ce196d406707ffe2e86bd', #HBM373.LDGF.766 CODEX \n",
    "    '822c9163d3be9b427dd0830f69a12305', #HBM465.HZHH.676 CODEX\n",
    "    'd4e9ec618924a8d43cfe1e67c38c1447', #HBM887.SHVF.747 CODEX\n",
    "    '37d06bb991afa2beb7b9460e746247ad', #HBM893.CCKX.496 CODEX\n",
    "    '9a6403bb0423e62950926a7d4fdab45b', #HBM256.TVMB.842 2D IMC\n",
    "]"
   ]
  },
  {
   "cell_type": "code",
   "execution_count": 2,
   "id": "0698d6a0-c1c4-465f-83b7-5563a8bb6b85",
   "metadata": {},
   "outputs": [
    {
     "name": "stdout",
     "output_type": "stream",
     "text": [
      "Requirement already satisfied: gitpython in ./.JupyterLabJobPythonNonGPUCommon_venv/lib/python3.9/site-packages (3.1.43)\n",
      "Requirement already satisfied: gitdb<5,>=4.0.1 in ./.JupyterLabJobPythonNonGPUCommon_venv/lib/python3.9/site-packages (from gitpython) (4.0.11)\n",
      "Requirement already satisfied: smmap<6,>=3.0.1 in ./.JupyterLabJobPythonNonGPUCommon_venv/lib/python3.9/site-packages (from gitdb<5,>=4.0.1->gitpython) (5.0.1)\n",
      "Note: you may need to restart the kernel to use updated packages.\n"
     ]
    }
   ],
   "source": [
    "pip install gitpython"
   ]
  },
  {
   "cell_type": "markdown",
   "id": "6fed48ec-0e62-4aec-aa18-dd04f41bc8b4",
   "metadata": {},
   "source": [
    "# Pull analysis notebook and additional data files \n",
    "From https://github.com/sooheelee/notebooks/."
   ]
  },
  {
   "cell_type": "code",
   "execution_count": 4,
   "id": "806b8d7f-ba92-4b98-abf5-cc30e147927e",
   "metadata": {},
   "outputs": [],
   "source": [
    "from git import Repo"
   ]
  },
  {
   "cell_type": "code",
   "execution_count": 5,
   "id": "d89db732-f21e-4b10-87e0-591e2abc0631",
   "metadata": {},
   "outputs": [],
   "source": [
    "git_url = 'https://github.com/sooheelee/notebooks/'\n",
    "repo_dir = 'hubmap-hackathon-2024'"
   ]
  },
  {
   "cell_type": "code",
   "execution_count": 6,
   "id": "92891ba1-56c6-4093-b02a-672a9bc3fd99",
   "metadata": {},
   "outputs": [
    {
     "data": {
      "text/plain": [
       "<git.repo.base.Repo '/hive/user-workspaces/sleep/1338/hubmap-hackathon-2024/.git'>"
      ]
     },
     "execution_count": 6,
     "metadata": {},
     "output_type": "execute_result"
    }
   ],
   "source": [
    "# This copies the 'hubmap-hackathon-2024' folder to \n",
    "# hubmap-hackathon-2024/hubmap-hackathon-2024\n",
    "Repo.clone_from(git_url, repo_dir)"
   ]
  },
  {
   "cell_type": "code",
   "execution_count": 7,
   "id": "2b929ad8-5946-43d8-8821-77bc01466b63",
   "metadata": {},
   "outputs": [],
   "source": [
    "# Copy notebook to main directory\n",
    "! cp hubmap-hackathon-2024/hubmap-hackathon-2024/shlee-hh-lightweight-thymus-20241004.ipynb ."
   ]
  },
  {
   "cell_type": "code",
   "execution_count": null,
   "id": "c7abed02-2d72-4efd-b136-979f9dfe11e8",
   "metadata": {},
   "outputs": [],
   "source": []
  }
 ],
 "metadata": {
  "kernelspec": {
   "display_name": "Python 3 (ipykernel)",
   "language": "python",
   "name": "python3"
  },
  "language_info": {
   "codemirror_mode": {
    "name": "ipython",
    "version": 3
   },
   "file_extension": ".py",
   "mimetype": "text/x-python",
   "name": "python",
   "nbconvert_exporter": "python",
   "pygments_lexer": "ipython3",
   "version": "3.9.19"
  }
 },
 "nbformat": 4,
 "nbformat_minor": 5
}
